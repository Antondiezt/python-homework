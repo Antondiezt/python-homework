{
 "cells": [
  {
   "cell_type": "code",
   "execution_count": 1,
   "metadata": {},
   "outputs": [],
   "source": [
    "#   Financial Analysis\n",
    "#   ----------------------------\n",
    "#   Total Months: 86\n",
    "#   Total: $38382578\n",
    "#   Average  Change: $-2315.12\n",
    "#   Greatest Increase in Profits: Feb-2012 ($1926159)\n",
    "#   Greatest Decrease in Profits: Sep-2013 ($-2196167)\n",
    "# Your final script should print the analysis to the terminal \n",
    "# and export a text file with the results."
   ]
  },
  {
   "cell_type": "code",
   "execution_count": 3,
   "metadata": {},
   "outputs": [
    {
     "name": "stdout",
     "output_type": "stream",
     "text": [
      "Financial Analysis\n",
      "------------------------\n",
      "The total number of months included in the dataset is 86\n",
      "The net total amount of Profit/Losses over the entire period was $38,382,578\n",
      "The average of the changes in Profit/Losses over the entire period was $-2,315.12\n",
      "The greatest increase in profits was $1,926,159 in Feb-2012\n",
      "The greatest decrease in profits was $-2,196,167 in Sep-2013\n"
     ]
    }
   ],
   "source": [
    "from pathlib import Path\n",
    "import csv\n",
    "\n",
    "# Create the path to the data file\n",
    "csvpath = Path ('../PyBank/budget_data.csv')\n",
    "\n",
    "# Open variables for total pnl and average changes of pnl\n",
    "total_pnl = 0\n",
    "changes_in_pnl = []\n",
    "\n",
    "# Open file to obtain the counting of months after the header\n",
    "with open(csvpath, \"r\") as csvfile:\n",
    "    csvreader = csv.reader(csvfile, delimiter=\",\")\n",
    "    header = next(csvreader)\n",
    "    dataset_length = list(csvreader)\n",
    "    month_count = (len(dataset_length))\n",
    "\n",
    "# Open the file again and assign previous_month to the first row after header\n",
    "with open(csvpath, \"r\") as csvfile:\n",
    "    csvreader = csv.reader(csvfile, delimiter=\",\")\n",
    "    header = next(csvreader)\n",
    "    previous_month = next(csvreader)\n",
    "    previous_month = int(previous_month[1])\n",
    "    total_pnl += previous_month\n",
    "\n",
    "    # For loop to obtain the total_pnl and the average of changes\n",
    "    for row in csvreader:\n",
    "        total_pnl += int(row[1])\n",
    "        current_month = int(row[1])\n",
    "        profit_losses = current_month - previous_month\n",
    "        previous_month = current_month\n",
    "        changes_in_pnl.append(profit_losses)\n",
    "\n",
    "    # Calculate average of changes and greatest increase and decrease in profits\n",
    "average_changes = round(sum(changes_in_pnl) / len(changes_in_pnl), 2)                     \n",
    "greatest_increase = max(changes_in_pnl)\n",
    "greatest_decrease = min(changes_in_pnl)\n",
    "\n",
    "print(\"Financial Analysis\")\n",
    "print(\"------------------------\")\n",
    "print(f\"The total number of months included in the dataset is {month_count}\")\n",
    "print(\"The net total amount of Profit/Losses over the entire period was ${:,}\".format(total_pnl))\n",
    "print(\"The average of the changes in Profit/Losses over the entire period was ${:,}\".format(average_changes))\n",
    "print(\"The greatest increase in profits was ${:,} in Feb-2012\". format(greatest_increase))\n",
    "print(\"The greatest decrease in profits was ${:,} in Sep-2013\". format(greatest_decrease))\n",
    "\n",
    "final_analysis = 'final_analysis.txt'\n",
    "with open(final_analysis, 'w') as file:\n",
    "    file.write(f\"Financial Analysis\\n\")\n",
    "    file.write(f\"-----------------------\\n\")\n",
    "    file.write(f\"The total number of months included in the dataset is {month_count} months.\\n\")\n",
    "    file.write(f\"The net total amount of Profit/Losses over the entire period was ${total_pnl}.\\n\")\n",
    "    file.write(f\"The greatest increase in profits was ${greatest_increase} in Feb-2012.\\n\")\n",
    "    file.write(f\"The greatest increase in profits was ${greatest_decrease} in Sep-2013.\\n\")\n",
    "    file.write(f\"The average of the changes in Profit/Losses over the entire period was ${average_changes}\") "
   ]
  },
  {
   "cell_type": "code",
   "execution_count": null,
   "metadata": {},
   "outputs": [],
   "source": []
  }
 ],
 "metadata": {
  "kernelspec": {
   "display_name": "Python 3",
   "language": "python",
   "name": "python3"
  },
  "language_info": {
   "codemirror_mode": {
    "name": "ipython",
    "version": 3
   },
   "file_extension": ".py",
   "mimetype": "text/x-python",
   "name": "python",
   "nbconvert_exporter": "python",
   "pygments_lexer": "ipython3",
   "version": "3.7.4"
  }
 },
 "nbformat": 4,
 "nbformat_minor": 4
}
