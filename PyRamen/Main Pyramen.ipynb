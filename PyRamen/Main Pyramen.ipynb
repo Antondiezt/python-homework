{
 "cells": [
  {
   "cell_type": "code",
   "execution_count": 8,
   "metadata": {},
   "outputs": [
    {
     "name": "stderr",
     "output_type": "stream",
     "text": [
      "IOPub data rate exceeded.\n",
      "The notebook server will temporarily stop sending output\n",
      "to the client in order to avoid crashing it.\n",
      "To change this limit, set the config variable\n",
      "`--NotebookApp.iopub_data_rate_limit`.\n",
      "\n",
      "Current values:\n",
      "NotebookApp.iopub_data_rate_limit=1000000.0 (bytes/sec)\n",
      "NotebookApp.rate_limit_window=3.0 (secs)\n",
      "\n"
     ]
    }
   ],
   "source": [
    "# Import libraries\n",
    "import csv\n",
    "from csv import reader\n",
    "from pathlib import Path\n",
    "\n",
    "# Set file paths\n",
    "menu_filepath = Path('menu_data.csv')\n",
    "sales_filepath = Path('sales_data.csv')\n",
    "\n",
    "# Initialize list objects\n",
    "menu = []\n",
    "sales = []\n",
    "\n",
    "# Read in the menu data into the menu list\n",
    "\n",
    "with open(menu_filepath, \"r\") as read_obj:\n",
    "    csv_reader = reader(read_obj)\n",
    "    header = next(csv_reader)\n",
    "    list_of_menus = list(csv_reader)\n",
    "    menu.append(list_of_menus)\n",
    "\n",
    "# Read in the sales data into the sales list\n",
    "\n",
    "with open(sales_filepath, 'r') as read_obj:\n",
    "    csv_reader = reader(read_obj)\n",
    "    list_of_sales = list(map(tuple, csv_reader))\n",
    "    sales.append(list_of_sales)\n",
    "\n",
    "       ## ******************** ##\n"
   ]
  }
 ],
 "metadata": {
  "kernelspec": {
   "display_name": "Python 3",
   "language": "python",
   "name": "python3"
  },
  "language_info": {
   "codemirror_mode": {
    "name": "ipython",
    "version": 3
   },
   "file_extension": ".py",
   "mimetype": "text/x-python",
   "name": "python",
   "nbconvert_exporter": "python",
   "pygments_lexer": "ipython3",
   "version": "3.7.4"
  }
 },
 "nbformat": 4,
 "nbformat_minor": 4
}
